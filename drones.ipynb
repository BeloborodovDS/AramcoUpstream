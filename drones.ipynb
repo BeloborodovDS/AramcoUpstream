{
 "cells": [
  {
   "cell_type": "code",
   "execution_count": 1,
   "metadata": {},
   "outputs": [],
   "source": [
    "import numpy as np\n",
    "from matplotlib import pyplot as plt\n",
    "import sklearn\n",
    "from sklearn.neural_network import MLPRegressor\n",
    "import itertools\n",
    "from scipy.optimize import linear_sum_assignment\n",
    "from IPython.display import clear_output"
   ]
  },
  {
   "cell_type": "code",
   "execution_count": 2,
   "metadata": {},
   "outputs": [],
   "source": [
    "class Linear():\n",
    "    def __init__(self, nin, nout):\n",
    "        self.mat = np.random.normal(0,1,(nin, nout))\n",
    "        self.bias = np.zeros((1, nout))\n",
    "    def forward(self, x):\n",
    "        return np.dot(x, self.mat) + self.bias\n",
    "    def get_params(self):\n",
    "        return np.concatenate([self.mat.ravel().copy(), self.bias.ravel().copy()])\n",
    "    def set_params(self, w):\n",
    "        self.mat = w[:self.mat.size].reshape(self.mat.shape).copy()\n",
    "        self.bias = w[self.mat.size:].reshape(self.bias.shape).copy()\n",
    "    def param_size(self):\n",
    "        return self.mat.size + self.bias.size\n",
    "    \n",
    "class Relu():\n",
    "    def __init__(self):\n",
    "        pass\n",
    "    def forward(self, x):\n",
    "        return x*(x >= 0)\n",
    "    def get_params(self):\n",
    "        return np.array([])\n",
    "    def set_params(self, w):\n",
    "        pass\n",
    "    def param_size(self):\n",
    "        return 0\n",
    "    \n",
    "class Net():\n",
    "    def __init__(self, sizes):\n",
    "        self.layers = []\n",
    "        for a,b in zip(sizes[:-1], sizes[1:]):\n",
    "            self.layers.append(Linear(a,b))\n",
    "            self.layers.append(Relu())\n",
    "        self.layers = self.layers[:-1]\n",
    "        self.param_sizes = np.cumsum([0] + [l.param_size() for l in self.layers])\n",
    "    def forward(self, x):\n",
    "        for l in self.layers:\n",
    "            x = l.forward(x)\n",
    "        return x\n",
    "    def get_params(self):\n",
    "        x = np.concatenate([l.get_params() for l in self.layers])\n",
    "        return x\n",
    "    def set_params(self, w):\n",
    "        for l,a,b in zip(self.layers, self.param_sizes[:-1], self.param_sizes[1:]):\n",
    "            l.set_params(w[a:b])"
   ]
  },
  {
   "cell_type": "code",
   "execution_count": 3,
   "metadata": {},
   "outputs": [
    {
     "name": "stdout",
     "output_type": "stream",
     "text": [
      "[[-0.63037406]\n",
      " [-2.19862083]\n",
      " [-0.03967739]\n",
      " [-6.15047132]\n",
      " [-6.03887425]\n",
      " [-0.03159504]\n",
      " [ 2.6118847 ]\n",
      " [ 3.47442254]\n",
      " [-1.82017655]\n",
      " [-1.93032048]]\n",
      "[[-0.63037406]\n",
      " [-2.19862083]\n",
      " [-0.03967739]\n",
      " [-6.15047132]\n",
      " [-6.03887425]\n",
      " [-0.03159504]\n",
      " [ 2.6118847 ]\n",
      " [ 3.47442254]\n",
      " [-1.82017655]\n",
      " [-1.93032048]]\n"
     ]
    }
   ],
   "source": [
    "x = np.random.normal(0,1,(10,3))\n",
    "net = Net([3,10,1])\n",
    "print(net.forward(x))\n",
    "net.set_params(net.get_params())\n",
    "print(net.forward(x))"
   ]
  },
  {
   "cell_type": "code",
   "execution_count": 4,
   "metadata": {},
   "outputs": [],
   "source": [
    "pxy = np.array([[0.0,0],[1,0],[2,0],[3,1]])\n",
    "dxy = np.array([[1.0,1],[2,2]])\n",
    "bxy = np.array([[0.0,0]])\n",
    "dth = np.array([3.3,7.7])\n",
    "mask = np.array([1,1,1,1])\n",
    "\n",
    "net = Net([4,10,1])\n",
    "thresh = 2 #84*4"
   ]
  },
  {
   "cell_type": "code",
   "execution_count": null,
   "metadata": {},
   "outputs": [],
   "source": []
  },
  {
   "cell_type": "code",
   "execution_count": 5,
   "metadata": {},
   "outputs": [
    {
     "data": {
      "text/plain": [
       "(array([0, 1]), array([-1,  1]), array([-1,  1]))"
      ]
     },
     "execution_count": 5,
     "metadata": {},
     "output_type": "execute_result"
    }
   ],
   "source": [
    "def assign_targets(points_xy, valid_mask, drones_xy, base_xy, drones_death_dist, net, death_thresh):\n",
    "    if not np.any(valid_mask):\n",
    "        return np.array([]), np.array([]), np.array([])\n",
    "    \n",
    "    points_xy = points_xy[valid_mask]\n",
    "    \n",
    "    num_points = points_xy.shape[0]\n",
    "    num_drones = drones_xy.shape[0]\n",
    "    # num_drones x num_points\n",
    "    dist_drn_pnt = np.sqrt(np.sum((points_xy[None,:,:] - drones_xy[:,None,:])**2, axis=2))\n",
    "    dist_drn_bs = np.sqrt(np.sum((drones_xy - base_xy)**2, axis=1))\n",
    "    to_base = (dist_drn_bs + death_thresh >= drones_death_dist)\n",
    "    dist_drn_bs = dist_drn_bs[:,None] + np.zeros_like(dist_drn_pnt)\n",
    "    dist_pnt_bs = np.sqrt(np.sum((points_xy - base_xy)**2, axis=1))[None,:] + np.zeros_like(dist_drn_pnt)\n",
    "    death = drones_death_dist[:,None] + np.zeros_like(dist_drn_pnt)\n",
    "    # num_drones*num_points x 4\n",
    "    feats = np.hstack([dist_drn_pnt.reshape(-1,1), dist_drn_bs.reshape(-1,1), \n",
    "                       dist_pnt_bs.reshape(-1,1), death.reshape(-1,1)])\n",
    "    # num_drones*num_points x 1\n",
    "    scores = feats[:,0].reshape((num_drones, num_points))\n",
    "    #scores = net.forward(feats).reshape((num_drones, num_points))\n",
    "    \n",
    "    scores[to_base,:] = np.max(scores) + 1\n",
    "    drones, points = linear_sum_assignment(scores)\n",
    "    \n",
    "    to_base = to_base[drones]\n",
    "    points[to_base] = -1\n",
    "    \n",
    "    tmp = np.arange(valid_mask.size)[valid_mask]\n",
    "    points = np.array([-1 if p==-1 else tmp[p] for p in points])\n",
    "    \n",
    "    fullpoints = - 2 * np.ones(drones_xy.shape[0], dtype=int)\n",
    "    fullpoints[drones] = points\n",
    "    \n",
    "    return drones, points, fullpoints\n",
    "    \n",
    "assign_targets(pxy, mask, dxy, bxy, dth, net, thresh)"
   ]
  },
  {
   "cell_type": "code",
   "execution_count": null,
   "metadata": {},
   "outputs": [],
   "source": []
  },
  {
   "cell_type": "code",
   "execution_count": 7,
   "metadata": {},
   "outputs": [
    {
     "data": {
      "image/png": "[encoded data removed]",
      "text/plain": [
       "<Figure size 504x504 with 1 Axes>"
      ]
     },
     "metadata": {
      "needs_background": "light"
     },
     "output_type": "display_data"
    }
   ],
   "source": [
    "pxy = np.random.uniform(-1,1,(100,2))\n",
    "dxy = np.random.uniform(-1,1,(100,2))\n",
    "bxy = np.array([[0.0,0]])\n",
    "dth = np.random.binomial(1, 0.8, dxy.shape[0])*10000\n",
    "mask = np.random.binomial(1, 0.9, pxy.shape[0]).astype(bool)\n",
    "thresh = 0.5\n",
    "\n",
    "net = Net([4,10,1])\n",
    "\n",
    "drones, points, fpnt = assign_targets(pxy, mask, dxy, bxy, dth, net, thresh)\n",
    "\n",
    "plt.figure(figsize=(7,7))\n",
    "plt.scatter(pxy[:,0], pxy[:,1])\n",
    "plt.scatter(pxy[mask][:,0], pxy[mask][:,1], color='r')\n",
    "plt.scatter(dxy[:,0], dxy[:,1], color='y')\n",
    "plt.scatter(dxy[drones][points==-1,0], dxy[drones][points==-1,1], color='m')\n",
    "\n",
    "for i,p in enumerate(points):\n",
    "    if p!=-1:\n",
    "        plt.plot([pxy[p][0], dxy[drones][i][0]],[pxy[p][1], dxy[drones][i][1]], 'g')"
   ]
  },
  {
   "cell_type": "code",
   "execution_count": 65,
   "metadata": {},
   "outputs": [
    {
     "data": {
      "text/plain": [
       "<matplotlib.collections.PathCollection at 0x7fc7b5fb2e80>"
      ]
     },
     "execution_count": 65,
     "metadata": {},
     "output_type": "execute_result"
    },
    {
     "data": {
      "image/png": "[encoded data removed]",
      "text/plain": [
       "<Figure size 432x288 with 1 Axes>"
      ]
     },
     "metadata": {
      "needs_background": "light"
     },
     "output_type": "display_data"
    }
   ],
   "source": [
    "class Drone():\n",
    "    def __init__(self, xy, base_xy, speed=13.88888, \n",
    "                 fly_discharge=0.00055555, msr_discharge=2.77778e-05, charge_time=600):\n",
    "        self.speed = speed\n",
    "        self.xy = xy.copy()\n",
    "        self.base_xy = base_xy.copy()\n",
    "        self.fly_discharge = fly_discharge\n",
    "        self.msr_discharge = msr_discharge\n",
    "        self.charge = 1.\n",
    "        self.dt = 6.\n",
    "        self.eps = 800 #85*4\n",
    "        self.timeout = 0\n",
    "        self.charge_steps = charge_time//self.dt\n",
    "        self.landed = False\n",
    "        self.update_death()\n",
    "        self.c = 'y'\n",
    "        \n",
    "    def update_death(self):\n",
    "        self.base_dist = np.sqrt(np.sum((self.xy-self.base_xy)**2))\n",
    "        self.death_dist = self.charge/self.fly_discharge*self.speed\n",
    "        self.returning = (self.death_dist <= self.base_dist + self.eps)\n",
    "        \n",
    "    def move_to(self, target, target_index):\n",
    "        self.charge -= self.fly_discharge*self.dt\n",
    "        self.charge = max(self.charge, 0)\n",
    "        self.update_death()\n",
    "        \n",
    "        if self.returning:\n",
    "            target = self.base_xy.copy()\n",
    "            target_index = -1\n",
    "#         if self.timeout > 0:\n",
    "#             self.timeout -= 1\n",
    "#             self.charge = 1.\n",
    "#             return\n",
    "        self.target = target\n",
    "        self.target_index = target_index\n",
    "        dist = np.sqrt(np.sum((self.xy-target)**2))\n",
    "        if dist < 1e-2:\n",
    "            self.landed = True\n",
    "            if target_index==-1:\n",
    "                self.charge = 1.\n",
    "                self.returning = False\n",
    "#                 self.timeout = int(self.charge_steps)\n",
    "            return\n",
    "        if dist <= self.dt*self.speed:\n",
    "            self.xy = target.copy()\n",
    "            self.landed = True\n",
    "            if target_index==-1:\n",
    "                self.charge = 1.\n",
    "                self.returning = False\n",
    "#                 self.timeout = int(self.charge_steps)\n",
    "            return\n",
    "        if self.landed or target_index==-2: #if landed or no tasks available\n",
    "            return\n",
    "        direct = target-self.xy\n",
    "        direct = direct/np.sqrt(np.sum(direct**2))\n",
    "        self.xy += direct*self.speed*self.dt\n",
    "        \n",
    "    def measure(self, i, N):\n",
    "        if self.landed:\n",
    "            self.charge -= (self.fly_discharge + self.msr_discharge)*self.dt\n",
    "            self.charge = max(self.charge, 0)\n",
    "            self.update_death()\n",
    "            self.c = 'm' #['r','g','b','m'][i]\n",
    "            if i==N-1:\n",
    "                self.landed = False\n",
    "                self.c = 'y'\n",
    "            return self.target_index\n",
    "        else:\n",
    "            self.move_to(self.target, self.target_index)\n",
    "            return -1\n",
    "        \n",
    "        \n",
    "        \n",
    "\n",
    "class Environment():\n",
    "    def __init__(self, area_x=(4500,6500), area_y=(300,900), grid_x=41, grid_y=13,\n",
    "                 base_xy=(5000.0,1000), num_drones=5, drones_xy=None, drone_speed=13.88888,\n",
    "                 car_xy=(0,50), car_speed=1.38888, car_steps=[10,3,1], \n",
    "                 fly_discharge=0.00055555, msr_discharge=2.77778e-05, charge_time=600):\n",
    "        self.dt = 6.\n",
    "        self.grid_x = grid_x\n",
    "        self.grid_x = grid_y\n",
    "        self.area_x = area_x\n",
    "        self.area_y = area_y\n",
    "        x = np.zeros((grid_y,grid_x)) + np.linspace(*area_x, grid_x)[None,:]\n",
    "        y = np.zeros((grid_y,grid_x)) + np.linspace(*area_y, grid_y)[:,None]\n",
    "        self.points = np.hstack([x.reshape(-1,1), y.reshape(-1,1)])\n",
    "        self.valid_mask = np.ones(self.points.shape[0], dtype=bool)\n",
    "        \n",
    "        self.car_xy = np.array(car_xy)[None]\n",
    "        self.car_steps = np.cumsum([0] + car_steps)\n",
    "        self.car_speed = car_speed\n",
    "        self.new_points = self.get_drone_points()\n",
    "        \n",
    "        self.base_xy = np.array(base_xy)[None]\n",
    "        if drones_xy is None:\n",
    "            drones_xy = 10*np.random.normal(0,1,(num_drones,2)) + self.base_xy\n",
    "        self.drones = [Drone(d[None], self.base_xy) for d in drones_xy]        \n",
    "        \n",
    "        self.i = 0\n",
    "        self.sending = False\n",
    "        \n",
    "    def get_data(self):\n",
    "        drones_xy = np.vstack([d.xy for d in self.drones])\n",
    "        death = np.ones(len(self.drones)) * 10000\n",
    "        \n",
    "        return self.new_points, self.valid_mask, drones_xy, self.base_xy, death\n",
    "        \n",
    "    def get_drone_points(self):\n",
    "        return 2*(self.points-self.car_xy) + self.car_xy\n",
    "    \n",
    "    def step(self, assignment):\n",
    "        lo = self.car_steps[:-1]\n",
    "        hi = self.car_steps[1:]\n",
    "        j = self.i % self.car_steps[-1]\n",
    "        if lo[0] <= j < hi[0]:\n",
    "            self.car_xy[0, 0] += self.car_speed*self.dt\n",
    "            if (self.car_xy[0, 0] >= 10000) or (self.car_xy[0, 0] < 0):\n",
    "                self.car_speed *= -1\n",
    "            self.sending = False\n",
    "        elif lo[1] <= j < hi[1]:\n",
    "            self.sending = True\n",
    "        else:\n",
    "            self.sending = True\n",
    "            \n",
    "        self.new_points = self.get_drone_points()\n",
    "            \n",
    "        if self.sending:\n",
    "            measured = np.array([d.measure((j-lo[1])%(hi[2]-lo[1]), hi[2]-lo[1]) for d in self.drones])\n",
    "            measured = measured[measured >= 0]\n",
    "            if measured.size>0:\n",
    "                self.valid_mask[measured] = False\n",
    "        else:\n",
    "            for d,a in zip(self.drones, assignment):\n",
    "                d.move_to(self.new_points[a][None], a)\n",
    "            \n",
    "        self.i += 1\n",
    "        \n",
    "    def visualize(self):\n",
    "        plt.scatter(self.points[:,0], self.points[:,1], marker='x')\n",
    "        c = 'g' if self.sending else 'r'\n",
    "        pnt = self.new_points\n",
    "        plt.scatter(pnt[:,0], pnt[:,1], color=c, marker='x')\n",
    "        plt.scatter(pnt[~self.valid_mask,0], pnt[~self.valid_mask,1], color='m')\n",
    "        plt.scatter([self.car_xy[0,0]], [self.car_xy[0,1]], color='k')\n",
    "        plt.scatter([self.base_xy[0,0]], [self.base_xy[0,1]], color='k')\n",
    "        \n",
    "#         drones_xy = np.vstack([d.xy for d in self.drones])\n",
    "#         plt.scatter(drones_xy[:,0], drones_xy[:,1], color='y', marker='>')\n",
    "        for d in self.drones:\n",
    "            c = ('k' if d.landed else 'y')\n",
    "            plt.scatter([d.xy[0,0]], [d.xy[0,1]], color=d.c, marker='>', alpha=(d.charge+1)/2)\n",
    "        plt.xlim(0,10000)\n",
    "        plt.ylim(0,2000)\n",
    "        \n",
    "    \n",
    "        \n",
    "drone = Drone(np.array([[0.0,0]]), np.array([[0.0,0]]))\n",
    "target = np.array([[500.0,500]])\n",
    "target1 = np.array([[500.0,0]])\n",
    "xy = []\n",
    "for i in range(5):\n",
    "    drone.move_to(target, 0)\n",
    "    xy.append(drone.xy.copy())\n",
    "for i in range(10):\n",
    "    drone.move_to(target1, 1)\n",
    "    xy.append(drone.xy.copy())\n",
    "xy = np.vstack(xy)\n",
    "plt.scatter(xy[:,0],xy[:,1])"
   ]
  },
  {
   "cell_type": "code",
   "execution_count": 68,
   "metadata": {},
   "outputs": [
    {
     "data": {
      "image/png": "[encoded data removed]",
      "text/plain": [
       "<Figure size 432x288 with 1 Axes>"
      ]
     },
     "metadata": {
      "needs_background": "light"
     },
     "output_type": "display_data"
    }
   ],
   "source": [
    "env = Environment(grid_x=41,grid_y=13)\n",
    "env.car_speed *= 2\n",
    "for i in range(1000):\n",
    "    _, _, points = assign_targets(*env.get_data(), None, 0)\n",
    "    if points.size == 0:\n",
    "        break\n",
    "    env.step(points)\n",
    "    #print(str([(e.death_dist-e.base_dist) for e in env.drones]))\n",
    "    env.visualize()\n",
    "    plt.show()\n",
    "    clear_output(True)"
   ]
  },
  {
   "cell_type": "code",
   "execution_count": 39,
   "metadata": {},
   "outputs": [
    {
     "data": {
      "text/plain": [
       "340"
      ]
     },
     "execution_count": 39,
     "metadata": {},
     "output_type": "execute_result"
    }
   ],
   "source": [
    "85*4"
   ]
  }
 ],
 "metadata": {
  "kernelspec": {
   "display_name": "Python 3",
   "language": "python",
   "name": "python3"
  },
  "language_info": {
   "codemirror_mode": {
    "name": "ipython",
    "version": 3
   },
   "file_extension": ".py",
   "mimetype": "text/x-python",
   "name": "python",
   "nbconvert_exporter": "python",
   "pygments_lexer": "ipython3",
   "version": "3.6.9"
  }
 },
 "nbformat": 4,
 "nbformat_minor": 2
}
